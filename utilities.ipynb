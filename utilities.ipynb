{
 "cells": [
  {
   "cell_type": "markdown",
   "id": "85e3fcba-3004-43d6-ba4a-53f714c6298f",
   "metadata": {},
   "source": [
    "# Pip install the following\n",
    "\n",
    "langchain\n",
    "langchain-core\n",
    "langchain-openai\n",
    "langchain-openai\n",
    "langchain-community\n",
    "langgraph\n",
    "openai\n",
    "langgraph.checkpoint.sqlite\n",
    "\n",
    "google-generativeai\n",
    "ipywidgets\n",
    "tavily-python\n",
    "param\n",
    "deepl\n",
    "panel\n",
    "serpapi\n",
    "\n",
    "llamaapi\n",
    "\n"
   ]
  },
  {
   "cell_type": "code",
   "execution_count": 11,
   "id": "8ce6a989-4ad0-4ef2-8cc3-e069b1ee812c",
   "metadata": {},
   "outputs": [],
   "source": [
    "#########  LangGraph  ##########################\n",
    "from langgraph.graph import StateGraph,START,END\n",
    "from langgraph.checkpoint.memory import MemorySaver\n",
    "\n",
    "########### Langchain   ##########################\n",
    "from langchain_openai import ChatOpenAI\n",
    "from langchain_core.messages import SystemMessage, HumanMessage,BaseMessage,AIMessage\n",
    "from langchain_core.output_parsers import StrOutputParser\n",
    "from langchain_core.prompts import ChatPromptTemplate\n",
    "from langchain.vectorstores import Chroma\n",
    "from langchain.storage import InMemoryStore\n",
    "from langchain.schema import Document\n",
    "from langchain.retrievers import MultiVectorRetriever\n",
    "from langchain_openai import OpenAIEmbeddings\n",
    "import openai\n",
    "from openai import OpenAI\n",
    "############################################\n",
    "import os\n",
    "import shutil\n",
    "import time\n",
    "import hashlib\n",
    "import gc\n",
    "import uuid\n",
    "import pymupdf\n",
    "\n",
    "#from PIL import Image\n",
    "import matplotlib.pyplot as plt\n",
    "import locale\n",
    "import base64\n",
    "import requests\n",
    "from io import BytesIO\n",
    "import time\n",
    "import yaml\n",
    "\n",
    "import io\n",
    "import json\n",
    "from typing import TypedDict, Annotated, List, Sequence,Dict\n",
    "from IPython.display import display, Markdown,Latex,Image\n",
    "\n",
    "\n",
    "from textwrap import dedent \n",
    "from pydantic import BaseModel, Field\n",
    "import operator\n",
    "\n"
   ]
  },
  {
   "cell_type": "code",
   "execution_count": 13,
   "id": "ecbbaa79-fd17-4173-843f-e72d0dddd261",
   "metadata": {},
   "outputs": [],
   "source": [
    "################## Loading API keys and initializing clients and llm_models ###############################\n",
    "\n",
    "locale.getpreferredencoding = lambda: \"UTF-8\"\n",
    "with open('chatgpt_api_credentials.yml', 'r') as file:\n",
    "    api_creds = yaml.safe_load(file)\n",
    "api_creds.keys()\n",
    "os.environ['OPENAI_API_KEY'] = api_creds['openai_api_key']\n",
    "openai_api_key  = api_creds['openai_api_key']\n",
    "os.environ['TAVILY_API_KEY'] = api_creds['tavily_api_key']\n",
    "tavily_api_key =api_creds['tavily_api_key']\n"
   ]
  },
  {
   "cell_type": "code",
   "execution_count": null,
   "id": "29a1cdab-a808-47ac-b896-d9497db342da",
   "metadata": {},
   "outputs": [],
   "source": []
  }
 ],
 "metadata": {
  "kernelspec": {
   "display_name": "Python 3 (ipykernel)",
   "language": "python",
   "name": "python3"
  },
  "language_info": {
   "codemirror_mode": {
    "name": "ipython",
    "version": 3
   },
   "file_extension": ".py",
   "mimetype": "text/x-python",
   "name": "python",
   "nbconvert_exporter": "python",
   "pygments_lexer": "ipython3",
   "version": "3.9.4"
  }
 },
 "nbformat": 4,
 "nbformat_minor": 5
}
